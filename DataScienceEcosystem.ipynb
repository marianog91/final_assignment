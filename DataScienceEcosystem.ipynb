{
 "cells": [
  {
   "cell_type": "markdown",
   "id": "9ed54557-f4f4-4f9e-9c93-738e401664ef",
   "metadata": {},
   "source": [
    " # Data Science Tools And Ecosystem"
   ]
  },
  {
   "cell_type": "markdown",
   "id": "c0482741-9798-45ca-8789-5ef1e19bcea0",
   "metadata": {},
   "source": [
    "In this notebook, Data Science Tools and Ecosystem are summarized"
   ]
  },
  {
   "cell_type": "markdown",
   "id": "138baca3-aab5-42a1-bb09-e71e86e866d8",
   "metadata": {},
   "source": [
    "__Objectives:__\n",
    "\n",
    "- List popular languages for Data Science  \n",
    "- Explore open-source development environments used by data scientists  \n",
    "- Perform basic arithmetic operations in code cells  \n",
    "\n"
   ]
  },
  {
   "cell_type": "markdown",
   "id": "1ce25c10-6cb0-419a-b5a6-eaaefbeb8bbe",
   "metadata": {},
   "source": [
    "## Author\n",
    "Mariano Grimoldi"
   ]
  },
  {
   "cell_type": "markdown",
   "id": "708fad0d-d048-4789-a89e-f6d8724050f0",
   "metadata": {},
   "source": [
    "Some of the popular languages that Data Scientis use are:\n",
    "\n",
    "1. Julia\n",
    "2. Python\n",
    "3. R"
   ]
  },
  {
   "cell_type": "markdown",
   "id": "54c73dd8-d76b-4ca7-a78f-4740e9f3d1ce",
   "metadata": {},
   "source": [
    "Some of the commonly used libraries used by Data Scientis include:\n",
    "\n",
    "1. pandas\n",
    "2. NumPy\n",
    "3. pyTorch\n",
    "4. caret"
   ]
  },
  {
   "cell_type": "markdown",
   "id": "52a292b6-a55b-4ac0-a5cf-e639752886c6",
   "metadata": {},
   "source": [
    "| Data Science Tools |\n",
    "| ------------------ |\n",
    "| JupyterLab |\n",
    "| RStudio |\n",
    "| VS Code|"
   ]
  },
  {
   "cell_type": "markdown",
   "id": "67e9424b-ce35-4eb5-81b0-8ec14701913d",
   "metadata": {},
   "source": [
    "### Below are a few examples of evaluating arithmetic expressions in Python"
   ]
  },
  {
   "cell_type": "code",
   "execution_count": 3,
   "id": "afe17dd4-d53c-46c4-9316-04c0a5417359",
   "metadata": {},
   "outputs": [
    {
     "data": {
      "text/plain": [
       "17"
      ]
     },
     "execution_count": 3,
     "metadata": {},
     "output_type": "execute_result"
    }
   ],
   "source": [
    "# This is a simple arithmetic expression to multiply then add integers\n",
    "(3 * 4) + 5\n"
   ]
  },
  {
   "cell_type": "code",
   "execution_count": 4,
   "id": "00e12f62-e9b4-418e-a46d-2dbfbaab644c",
   "metadata": {},
   "outputs": [
    {
     "data": {
      "text/plain": [
       "3.3333333333333335"
      ]
     },
     "execution_count": 4,
     "metadata": {},
     "output_type": "execute_result"
    }
   ],
   "source": [
    "# This will convert 200 minutes to hours by dividing by 60\n",
    "200 / 60"
   ]
  },
  {
   "cell_type": "code",
   "execution_count": null,
   "id": "c55d3c37-60cc-421e-ab6f-44906026ac30",
   "metadata": {},
   "outputs": [],
   "source": []
  }
 ],
 "metadata": {
  "kernelspec": {
   "display_name": "Python [conda env:MarianoProject]",
   "language": "python",
   "name": "conda-env-MarianoProject-py"
  },
  "language_info": {
   "codemirror_mode": {
    "name": "ipython",
    "version": 3
   },
   "file_extension": ".py",
   "mimetype": "text/x-python",
   "name": "python",
   "nbconvert_exporter": "python",
   "pygments_lexer": "ipython3",
   "version": "3.12.9"
  }
 },
 "nbformat": 4,
 "nbformat_minor": 5
}
